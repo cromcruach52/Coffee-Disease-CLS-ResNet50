{
 "cells": [
  {
   "cell_type": "markdown",
   "id": "a9ac421d",
   "metadata": {},
   "source": [
    "## Image Preprocessing - OPENCV"
   ]
  },
  {
   "cell_type": "code",
   "execution_count": null,
   "id": "d5890a83",
   "metadata": {},
   "outputs": [],
   "source": [
    "import cv2\n",
    "import pandas as pd\n",
    "import os"
   ]
  },
  {
   "cell_type": "code",
   "execution_count": 19,
   "id": "b59aa532",
   "metadata": {},
   "outputs": [],
   "source": [
    "# Define the main directory\n",
    "main_dir = 'Images_Samples'"
   ]
  },
  {
   "cell_type": "code",
   "execution_count": 20,
   "id": "a1afeb1d",
   "metadata": {},
   "outputs": [],
   "source": [
    "# Define the disease types\n",
    "disease_types = ['Cercospora', 'Healthy', 'Leaf rust', 'Miner', 'Phoma']"
   ]
  },
  {
   "cell_type": "code",
   "execution_count": 21,
   "id": "ff554f39",
   "metadata": {},
   "outputs": [],
   "source": [
    "# Create the 'images' directory if it does not exist\n",
    "if not os.path.exists('images'):\n",
    "    os.makedirs('images')"
   ]
  },
  {
   "cell_type": "code",
   "execution_count": 22,
   "id": "35f7d9f4",
   "metadata": {},
   "outputs": [],
   "source": [
    "# Initialize an empty dataframe\n",
    "df = pd.DataFrame(columns=['Disease Type', 'Image Name', 'Image Path'])"
   ]
  },
  {
   "cell_type": "code",
   "execution_count": 25,
   "id": "23adad94",
   "metadata": {},
   "outputs": [],
   "source": [
    "# Initialize an empty list\n",
    "data = []\n",
    "\n",
    "# Loop over each disease type\n",
    "for disease_type in disease_types:\n",
    "    disease_dir = os.path.join(main_dir, disease_type)\n",
    "    \n",
    "    # Create a directory for the images of this disease type\n",
    "    image_dir = os.path.join('images', disease_type)\n",
    "    os.makedirs(image_dir, exist_ok=True)\n",
    "    \n",
    "    # Loop over each image in the disease type directory\n",
    "    for image_name in os.listdir(disease_dir):\n",
    "        image_path = os.path.join(disease_dir, image_name)\n",
    "        \n",
    "        # Read the image file\n",
    "        img = cv2.imread(image_path)\n",
    "        \n",
    "        # Resize the image\n",
    "        img = cv2.resize(img, (266, 266))\n",
    "        \n",
    "        # Save the image in the disease-specific directory\n",
    "        cv2.imwrite(os.path.join(image_dir, image_name), img)\n",
    "        \n",
    "        # Append a new row to the data list\n",
    "        data.append({'Disease Type': disease_type,\n",
    "                     'Image Name': image_name, \n",
    "                     'Image Path': os.path.join(image_dir, image_name)})\n",
    "\n",
    "# Convert the list to a DataFrame\n",
    "df = pd.DataFrame(data)\n"
   ]
  },
  {
   "cell_type": "code",
   "execution_count": 28,
   "id": "fcb67366",
   "metadata": {},
   "outputs": [
    {
     "data": {
      "text/html": [
       "<div>\n",
       "<style scoped>\n",
       "    .dataframe tbody tr th:only-of-type {\n",
       "        vertical-align: middle;\n",
       "    }\n",
       "\n",
       "    .dataframe tbody tr th {\n",
       "        vertical-align: top;\n",
       "    }\n",
       "\n",
       "    .dataframe thead th {\n",
       "        text-align: right;\n",
       "    }\n",
       "</style>\n",
       "<table border=\"1\" class=\"dataframe\">\n",
       "  <thead>\n",
       "    <tr style=\"text-align: right;\">\n",
       "      <th></th>\n",
       "      <th>Disease Type</th>\n",
       "      <th>Image Name</th>\n",
       "      <th>Image Path</th>\n",
       "    </tr>\n",
       "  </thead>\n",
       "  <tbody>\n",
       "    <tr>\n",
       "      <th>0</th>\n",
       "      <td>Cercospora</td>\n",
       "      <td>4 (1).jpg</td>\n",
       "      <td>images\\Cercospora\\4 (1).jpg</td>\n",
       "    </tr>\n",
       "    <tr>\n",
       "      <th>1</th>\n",
       "      <td>Cercospora</td>\n",
       "      <td>4 (10).jpg</td>\n",
       "      <td>images\\Cercospora\\4 (10).jpg</td>\n",
       "    </tr>\n",
       "    <tr>\n",
       "      <th>2</th>\n",
       "      <td>Cercospora</td>\n",
       "      <td>4 (11).jpg</td>\n",
       "      <td>images\\Cercospora\\4 (11).jpg</td>\n",
       "    </tr>\n",
       "    <tr>\n",
       "      <th>3</th>\n",
       "      <td>Cercospora</td>\n",
       "      <td>4 (12).jpg</td>\n",
       "      <td>images\\Cercospora\\4 (12).jpg</td>\n",
       "    </tr>\n",
       "    <tr>\n",
       "      <th>4</th>\n",
       "      <td>Cercospora</td>\n",
       "      <td>4 (13).jpg</td>\n",
       "      <td>images\\Cercospora\\4 (13).jpg</td>\n",
       "    </tr>\n",
       "    <tr>\n",
       "      <th>...</th>\n",
       "      <td>...</td>\n",
       "      <td>...</td>\n",
       "      <td>...</td>\n",
       "    </tr>\n",
       "    <tr>\n",
       "      <th>263</th>\n",
       "      <td>Phoma</td>\n",
       "      <td>1 (70).jpg</td>\n",
       "      <td>images\\Phoma\\1 (70).jpg</td>\n",
       "    </tr>\n",
       "    <tr>\n",
       "      <th>264</th>\n",
       "      <td>Phoma</td>\n",
       "      <td>1 (71).jpg</td>\n",
       "      <td>images\\Phoma\\1 (71).jpg</td>\n",
       "    </tr>\n",
       "    <tr>\n",
       "      <th>265</th>\n",
       "      <td>Phoma</td>\n",
       "      <td>1 (72).jpg</td>\n",
       "      <td>images\\Phoma\\1 (72).jpg</td>\n",
       "    </tr>\n",
       "    <tr>\n",
       "      <th>266</th>\n",
       "      <td>Phoma</td>\n",
       "      <td>1 (8).jpg</td>\n",
       "      <td>images\\Phoma\\1 (8).jpg</td>\n",
       "    </tr>\n",
       "    <tr>\n",
       "      <th>267</th>\n",
       "      <td>Phoma</td>\n",
       "      <td>1 (9).jpg</td>\n",
       "      <td>images\\Phoma\\1 (9).jpg</td>\n",
       "    </tr>\n",
       "  </tbody>\n",
       "</table>\n",
       "<p>268 rows × 3 columns</p>\n",
       "</div>"
      ],
      "text/plain": [
       "    Disease Type  Image Name                    Image Path\n",
       "0     Cercospora   4 (1).jpg   images\\Cercospora\\4 (1).jpg\n",
       "1     Cercospora  4 (10).jpg  images\\Cercospora\\4 (10).jpg\n",
       "2     Cercospora  4 (11).jpg  images\\Cercospora\\4 (11).jpg\n",
       "3     Cercospora  4 (12).jpg  images\\Cercospora\\4 (12).jpg\n",
       "4     Cercospora  4 (13).jpg  images\\Cercospora\\4 (13).jpg\n",
       "..           ...         ...                           ...\n",
       "263        Phoma  1 (70).jpg       images\\Phoma\\1 (70).jpg\n",
       "264        Phoma  1 (71).jpg       images\\Phoma\\1 (71).jpg\n",
       "265        Phoma  1 (72).jpg       images\\Phoma\\1 (72).jpg\n",
       "266        Phoma   1 (8).jpg        images\\Phoma\\1 (8).jpg\n",
       "267        Phoma   1 (9).jpg        images\\Phoma\\1 (9).jpg\n",
       "\n",
       "[268 rows x 3 columns]"
      ]
     },
     "execution_count": 28,
     "metadata": {},
     "output_type": "execute_result"
    }
   ],
   "source": [
    "df\n"
   ]
  },
  {
   "cell_type": "code",
   "execution_count": null,
   "id": "a3dca360",
   "metadata": {},
   "outputs": [],
   "source": []
  }
 ],
 "metadata": {
  "kernelspec": {
   "display_name": "Python 3 (ipykernel)",
   "language": "python",
   "name": "python3"
  },
  "language_info": {
   "codemirror_mode": {
    "name": "ipython",
    "version": 3
   },
   "file_extension": ".py",
   "mimetype": "text/x-python",
   "name": "python",
   "nbconvert_exporter": "python",
   "pygments_lexer": "ipython3",
   "version": "3.11.5"
  }
 },
 "nbformat": 4,
 "nbformat_minor": 5
}
