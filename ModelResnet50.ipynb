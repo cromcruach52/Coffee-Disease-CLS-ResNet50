{
 "cells": [
  {
   "cell_type": "code",
   "execution_count": 74,
   "id": "21c69284",
   "metadata": {},
   "outputs": [],
   "source": [
    "import os\n",
    "import torch\n",
    "from PIL import Image\n",
    "import torchvision.transforms as transforms\n",
    "from torch.utils.data import Dataset, DataLoader\n",
    "import torch.optim as optim \n",
    "import torch\n",
    "import torch.nn as nn\n",
    "import torchvision.models as models\n",
    "import matplotlib.pyplot as plt\n",
    "import numpy as np\n",
    "import time\n",
    "import copy"
   ]
  },
  {
   "cell_type": "code",
   "execution_count": 75,
   "id": "ed63e6c6",
   "metadata": {},
   "outputs": [],
   "source": [
    "data_dir = r'E:\\Jupyter\\Samples\\CoffeeDisease_Samples'"
   ]
  },
  {
   "cell_type": "code",
   "execution_count": 76,
   "id": "2542a7d4",
   "metadata": {},
   "outputs": [],
   "source": [
    "class_labels = ['Cercospora', 'Coffee Wilt', 'Healthy', 'Leaf Rust', 'Yellow Leaf Disease', 'Green Algae']"
   ]
  },
  {
   "cell_type": "code",
   "execution_count": 77,
   "id": "242744d7",
   "metadata": {},
   "outputs": [],
   "source": [
    "# Image pre-process/Image augmentation\n",
    "data_transforms = transforms.Compose([\n",
    "    transforms.RandomHorizontalFlip(),\n",
    "    transforms.RandomRotation(10),\n",
    "    transforms.RandomResizedCrop(224),\n",
    "    transforms.ToTensor(),\n",
    "    transforms.Normalize([0.485, 0.456, 0.406], [0.229, 0.224, 0.225])\n",
    "])\n"
   ]
  },
  {
   "cell_type": "code",
   "execution_count": 78,
   "id": "fe6a6464",
   "metadata": {},
   "outputs": [],
   "source": [
    "class CoffeeDataset(Dataset):\n",
    "    def __init__(self, root_dir, transform=None):\n",
    "        self.root_dir = root_dir\n",
    "        self.transform = transform\n",
    "        self.image_paths = []\n",
    "        self.labels = []\n",
    "\n",
    "        for label_idx, label in enumerate(class_labels):\n",
    "            class_dir = os.path.join(root_dir, label)\n",
    "            if os.path.isdir(class_dir):\n",
    "                for img_path in os.listdir(class_dir):\n",
    "                    img_path = os.path.join(class_dir, img_path)\n",
    "                    self.image_paths.append(img_path)\n",
    "                    label_vector = [0]*len(class_labels)\n",
    "                    label_vector[label_idx] = 1\n",
    "                    self.labels.append(label_vector)\n",
    "\n",
    "    def __len__(self):\n",
    "        return len(self.image_paths)\n",
    "\n",
    "    def __getitem__(self, idx):\n",
    "        img_path = self.image_paths[idx]\n",
    "        label = self.labels[idx]\n",
    "\n",
    "        img = Image.open(img_path).convert('RGB')\n",
    "        if self.transform:\n",
    "            img = self.transform(img)\n",
    "\n",
    "        return img, torch.tensor(label)\n"
   ]
  },
  {
   "cell_type": "code",
   "execution_count": 79,
   "id": "4d0ab31b",
   "metadata": {},
   "outputs": [],
   "source": [
    "dataset = CoffeeDataset(data_dir, transform=data_transforms)"
   ]
  },
  {
   "cell_type": "code",
   "execution_count": 80,
   "id": "eba73842",
   "metadata": {},
   "outputs": [],
   "source": [
    "train_size = int(0.8 * len(dataset))  \n",
    "val_size = len(dataset) - train_size  \n",
    "train_dataset, val_dataset = torch.utils.data.random_split(dataset, [train_size, val_size]) "
   ]
  },
  {
   "cell_type": "code",
   "execution_count": 81,
   "id": "fc438fcd",
   "metadata": {},
   "outputs": [],
   "source": [
    "# Create data loaders\n",
    "batch_size = 32\n",
    "train_loader = DataLoader(train_dataset, batch_size=batch_size, shuffle=True)\n",
    "val_loader = DataLoader(val_dataset, batch_size=batch_size, shuffle=False)"
   ]
  },
  {
   "cell_type": "code",
   "execution_count": 82,
   "id": "626f76bd",
   "metadata": {},
   "outputs": [
    {
     "name": "stdout",
     "output_type": "stream",
     "text": [
      "Length of training dataset: 783\n",
      "Length of validation dataset: 196\n"
     ]
    }
   ],
   "source": [
    "print(\"Length of training dataset:\", len(train_dataset))\n",
    "print(\"Length of validation dataset:\", len(val_dataset))"
   ]
  },
  {
   "cell_type": "code",
   "execution_count": 83,
   "id": "c2727ab1",
   "metadata": {},
   "outputs": [
    {
     "name": "stderr",
     "output_type": "stream",
     "text": [
      "Using cache found in C:\\Users\\Nicko/.cache\\torch\\hub\\pytorch_vision_v0.10.0\n"
     ]
    }
   ],
   "source": [
    "model = torch.hub.load('pytorch/vision:v0.10.0', 'resnet50', pretrained=True)"
   ]
  },
  {
   "cell_type": "code",
   "execution_count": 84,
   "id": "08bd6db6",
   "metadata": {},
   "outputs": [],
   "source": [
    "resnet = models.resnet50(pretrained=True)\n",
    "\n",
    "for param in resnet.parameters():\n",
    "    param.requires_grad = False"
   ]
  },
  {
   "cell_type": "code",
   "execution_count": 85,
   "id": "378b91a3",
   "metadata": {},
   "outputs": [],
   "source": [
    "num_ftrs = resnet.fc.in_features\n",
    "num_classes = len(class_labels) \n",
    "resnet.fc = nn.Linear(num_ftrs, num_classes)"
   ]
  },
  {
   "cell_type": "code",
   "execution_count": 86,
   "id": "70786648",
   "metadata": {},
   "outputs": [],
   "source": [
    "# Create the CNN model\n",
    "model = resnet\n"
   ]
  },
  {
   "cell_type": "code",
   "execution_count": 87,
   "id": "d9410974",
   "metadata": {},
   "outputs": [],
   "source": [
    "# Check for available GPUs\n",
    "\n",
    "device = torch.device(\"cuda\")\n",
    "\n"
   ]
  },
  {
   "cell_type": "code",
   "execution_count": 88,
   "id": "fe1b0bc3",
   "metadata": {},
   "outputs": [],
   "source": [
    "# Move the model to the GPU\n",
    "model = model.to(\"cuda\")\n"
   ]
  },
  {
   "cell_type": "code",
   "execution_count": 89,
   "id": "69f4150d",
   "metadata": {},
   "outputs": [
    {
     "name": "stdout",
     "output_type": "stream",
     "text": [
      "Number of images in Cercospora: 590\n",
      "Number of images in Coffee Wilt: 53\n",
      "Number of images in Healthy: 160\n",
      "Number of images in Leaf Rust: 56\n",
      "Number of images in Yellow Leaf Disease: 76\n",
      "Number of images in Green Algae: 44\n"
     ]
    }
   ],
   "source": [
    "# Get the total number of samples and the number of samples per class\n",
    "total_samples = 0\n",
    "samples_per_class = []\n",
    "for label in class_labels:\n",
    "    class_dir = os.path.join(data_dir, label)\n",
    "    if os.path.isdir(class_dir):\n",
    "        num_samples = len(os.listdir(class_dir))\n",
    "        total_samples += num_samples\n",
    "        samples_per_class.append(num_samples)\n",
    "        print(f\"Number of images in {label}: {num_samples}\")\n",
    "\n",
    "# Calculate the class weights\n",
    "class_weights = [total_samples / x for x in samples_per_class]\n",
    "weights = torch.tensor(class_weights).to(\"cuda\")\n",
    "\n",
    "criterion = nn.BCEWithLogitsLoss(pos_weight=weights.cuda())\n",
    "optimizer = optim.Adam(model.parameters(), lr=0.001)\n"
   ]
  },
  {
   "cell_type": "code",
   "execution_count": 90,
   "id": "53a9fcc9",
   "metadata": {},
   "outputs": [],
   "source": [
    "from sklearn.metrics import precision_score, recall_score, f1_score\n",
    "\n",
    "def calculate_metrics(preds, labels):\n",
    "    preds = preds.cpu().numpy()\n",
    "    labels = labels.cpu().numpy()\n",
    "\n",
    "    precision = precision_score(labels, preds, average=None, zero_division=0)\n",
    "    recall = recall_score(labels, preds, average=None, zero_division=0)\n",
    "    f1 = f1_score(labels, preds, average=None, zero_division=0)\n",
    "\n",
    "    return precision, recall, f1"
   ]
  },
  {
   "cell_type": "code",
   "execution_count": 92,
   "id": "b885168d",
   "metadata": {
    "scrolled": true
   },
   "outputs": [
    {
     "name": "stdout",
     "output_type": "stream",
     "text": [
      "Epoch 1/32\n",
      "----------\n",
      "train Loss: 1.0262 Acc: 0.3282\n",
      "val Loss: 0.7511 Acc: 0.5714\n",
      "Epoch 2/32\n",
      "----------\n",
      "train Loss: 0.6888 Acc: 0.6028\n",
      "val Loss: 0.5589 Acc: 0.6837\n",
      "Epoch 3/32\n",
      "----------\n",
      "train Loss: 0.6034 Acc: 0.5760\n",
      "val Loss: 0.5026 Acc: 0.6020\n",
      "Epoch 4/32\n",
      "----------\n",
      "train Loss: 0.4898 Acc: 0.6501\n",
      "val Loss: 0.4834 Acc: 0.6378\n",
      "Epoch 5/32\n",
      "----------\n",
      "train Loss: 0.4547 Acc: 0.6679\n",
      "val Loss: 0.4287 Acc: 0.7092\n",
      "Epoch 6/32\n",
      "----------\n",
      "train Loss: 0.4185 Acc: 0.7063\n",
      "val Loss: 0.4199 Acc: 0.7449\n",
      "Epoch 7/32\n",
      "----------\n",
      "train Loss: 0.3975 Acc: 0.6960\n",
      "val Loss: 0.3835 Acc: 0.7296\n",
      "Epoch 8/32\n",
      "----------\n",
      "train Loss: 0.4041 Acc: 0.6731\n",
      "val Loss: 0.3775 Acc: 0.7347\n",
      "Epoch 9/32\n",
      "----------\n",
      "train Loss: 0.3799 Acc: 0.7101\n",
      "val Loss: 0.3855 Acc: 0.7143\n",
      "Early stopping counter: 1 out of 6\n",
      "Epoch 10/32\n",
      "----------\n",
      "train Loss: 0.3514 Acc: 0.7331\n",
      "val Loss: 0.3114 Acc: 0.7041\n",
      "Epoch 11/32\n",
      "----------\n",
      "train Loss: 0.3605 Acc: 0.7356\n",
      "val Loss: 0.3611 Acc: 0.6480\n",
      "Early stopping counter: 1 out of 6\n",
      "Epoch 12/32\n",
      "----------\n",
      "train Loss: 0.3273 Acc: 0.7510\n",
      "val Loss: 0.3000 Acc: 0.7602\n",
      "Epoch 13/32\n",
      "----------\n",
      "train Loss: 0.2945 Acc: 0.7522\n",
      "val Loss: 0.3056 Acc: 0.7347\n",
      "Early stopping counter: 1 out of 6\n",
      "Epoch 14/32\n",
      "----------\n",
      "train Loss: 0.3236 Acc: 0.7305\n",
      "val Loss: 0.3302 Acc: 0.7041\n",
      "Early stopping counter: 2 out of 6\n",
      "Epoch 15/32\n",
      "----------\n",
      "train Loss: 0.3010 Acc: 0.7599\n",
      "val Loss: 0.2863 Acc: 0.7500\n",
      "Epoch 16/32\n",
      "----------\n",
      "train Loss: 0.3274 Acc: 0.7484\n",
      "val Loss: 0.2893 Acc: 0.7755\n",
      "Early stopping counter: 1 out of 6\n",
      "Epoch 17/32\n",
      "----------\n",
      "train Loss: 0.2903 Acc: 0.7573\n",
      "val Loss: 0.3055 Acc: 0.7755\n",
      "Early stopping counter: 2 out of 6\n",
      "Epoch 18/32\n",
      "----------\n",
      "train Loss: 0.2772 Acc: 0.7369\n",
      "val Loss: 0.3040 Acc: 0.7143\n",
      "Early stopping counter: 3 out of 6\n",
      "Epoch 19/32\n",
      "----------\n",
      "train Loss: 0.2777 Acc: 0.7842\n",
      "val Loss: 0.2656 Acc: 0.7704\n",
      "Epoch 20/32\n",
      "----------\n",
      "train Loss: 0.2633 Acc: 0.7778\n",
      "val Loss: 0.2938 Acc: 0.7041\n",
      "Early stopping counter: 1 out of 6\n",
      "Epoch 21/32\n",
      "----------\n",
      "train Loss: 0.2798 Acc: 0.7484\n",
      "val Loss: 0.2594 Acc: 0.7500\n",
      "Epoch 22/32\n",
      "----------\n",
      "train Loss: 0.2795 Acc: 0.7305\n",
      "val Loss: 0.2425 Acc: 0.7653\n",
      "Epoch 23/32\n",
      "----------\n",
      "train Loss: 0.3127 Acc: 0.7126\n",
      "val Loss: 0.3031 Acc: 0.7194\n",
      "Early stopping counter: 1 out of 6\n",
      "Epoch 24/32\n",
      "----------\n",
      "train Loss: 0.2519 Acc: 0.7739\n",
      "val Loss: 0.2474 Acc: 0.7449\n",
      "Early stopping counter: 2 out of 6\n",
      "Epoch 25/32\n",
      "----------\n",
      "train Loss: 0.2480 Acc: 0.7752\n",
      "val Loss: 0.2482 Acc: 0.7959\n",
      "Early stopping counter: 3 out of 6\n",
      "Epoch 26/32\n",
      "----------\n",
      "train Loss: 0.2374 Acc: 0.7842\n",
      "val Loss: 0.2942 Acc: 0.7551\n",
      "Early stopping counter: 4 out of 6\n",
      "Epoch 27/32\n",
      "----------\n",
      "train Loss: 0.2712 Acc: 0.7791\n",
      "val Loss: 0.3073 Acc: 0.7449\n",
      "Early stopping counter: 5 out of 6\n",
      "Epoch 28/32\n",
      "----------\n",
      "train Loss: 0.2402 Acc: 0.8148\n",
      "val Loss: 0.2437 Acc: 0.7551\n",
      "Early stopping counter: 6 out of 6\n",
      "Early stopping triggered.\n",
      "Breaking out of epoch loop due to early stopping.\n",
      "Training completed in 95m 53s\n"
     ]
    },
    {
     "data": {
      "image/png": "[encoded data removed]",
      "text/plain": [
       "<Figure size 1000x700 with 1 Axes>"
      ]
     },
     "metadata": {},
     "output_type": "display_data"
    },
    {
     "data": {
      "image/png": "[encoded data removed]",
      "text/plain": [
       "<Figure size 1000x700 with 1 Axes>"
      ]
     },
     "metadata": {},
     "output_type": "display_data"
    },
    {
     "name": "stdout",
     "output_type": "stream",
     "text": [
      "Best val Loss: 0.2425\n",
      "Best val Acc: 0.7959\n"
     ]
    }
   ],
   "source": [
    "def train_model(model, criterion, optimizer, num_epochs=32, patience=5):\n",
    "    since = time.time()\n",
    "\n",
    "    best_model_wts = copy.deepcopy(model.state_dict())\n",
    "    best_acc = 0.0\n",
    "\n",
    "    # Initialize lists for saving history\n",
    "    train_acc_history = []\n",
    "    val_acc_history = []\n",
    "    train_loss_history = []\n",
    "    val_loss_history = []\n",
    "\n",
    "    # Early stopping details\n",
    "    early_stopping_counter = 0\n",
    "    best_loss = float('inf')\n",
    "    early_stop = False  # Flag to indicate if early stopping occurred\n",
    "\n",
    "    for epoch in range(num_epochs):\n",
    "        \n",
    "        if early_stop:  # Check if early stopping occurred\n",
    "            print('Breaking out of epoch loop due to early stopping.')\n",
    "            break  # Break out of the epoch loop\n",
    "  \n",
    "        \n",
    "        print(f'Epoch {epoch+1}/{num_epochs}')\n",
    "        print('-' * 10)\n",
    "\n",
    "        for phase in ['train', 'val']:\n",
    "            if phase == 'train':\n",
    "                model.train()\n",
    "                data_loader = train_loader\n",
    "            else:\n",
    "                model.eval()\n",
    "                data_loader = val_loader\n",
    "\n",
    "            running_loss = 0.0\n",
    "            running_corrects = 0\n",
    "\n",
    "            for inputs, labels in data_loader:\n",
    "                inputs = inputs.cuda()\n",
    "                labels = labels.cuda().float() \n",
    "\n",
    "                optimizer.zero_grad()\n",
    "\n",
    "                with torch.set_grad_enabled(phase == 'train'):\n",
    "                    outputs = model(inputs)\n",
    "                    loss = criterion(outputs, labels)\n",
    "\n",
    "                    if phase == 'train':\n",
    "                        loss.backward()\n",
    "                        optimizer.step()\n",
    "\n",
    "                # Calculate the number of correct predictions\n",
    "                preds = outputs > 0.5\n",
    "                corrects = (preds == labels.byte()).all(1).sum().item()\n",
    "                running_corrects += corrects\n",
    "                running_loss += loss.item() * inputs.size(0)\n",
    "\n",
    "            epoch_loss = running_loss / len(data_loader.dataset)\n",
    "            epoch_acc = running_corrects / len(data_loader.dataset)\n",
    "\n",
    "            print(f'{phase} Loss: {epoch_loss:.4f} Acc: {epoch_acc:.4f}')\n",
    "\n",
    "            # Save history\n",
    "            if phase == 'train':\n",
    "                train_acc_history.append(epoch_acc)\n",
    "                train_loss_history.append(epoch_loss)\n",
    "            else:\n",
    "                val_acc_history.append(epoch_acc)\n",
    "                val_loss_history.append(epoch_loss)\n",
    "\n",
    "            # Check if early stopping conditions are met\n",
    "            if phase == 'val':\n",
    "                if epoch_acc > best_acc:\n",
    "                    best_acc = epoch_acc\n",
    "                if epoch_loss < best_loss:\n",
    "                    best_loss = epoch_loss\n",
    "                    best_model_wts = copy.deepcopy(model.state_dict())\n",
    "                    early_stopping_counter = 0\n",
    "                else:\n",
    "                    early_stopping_counter += 1\n",
    "                    print(f'Early stopping counter: {early_stopping_counter} out of {patience}')\n",
    "                    if early_stopping_counter >= patience:\n",
    "                        model.load_state_dict(best_model_wts)\n",
    "                        print(f'Early stopping triggered.')\n",
    "                        early_stop = True  # Set the early stopping flag\n",
    "                        break  # Break out of the phase loop\n",
    "\n",
    "    time_elapsed = time.time() - since\n",
    "    print(f'Training completed in {time_elapsed // 60:.0f}m {time_elapsed % 60:.0f}s')\n",
    "\n",
    "    return model, train_acc_history, val_acc_history, train_loss_history, val_loss_history, time_elapsed, best_loss, best_acc\n",
    "\n",
    "model, train_acc_history, val_acc_history, train_loss_history, val_loss_history, training_time, best_loss, best_acc = train_model(model, criterion, optimizer, num_epochs=32, patience=6)\n",
    "\n",
    "# Plot metrics (accuracy and loss)\n",
    "def plot_metrics(train_acc_history, val_acc_history, train_loss_history, val_loss_history, training_time, best_loss, best_acc):\n",
    "    # Plot accuracy\n",
    "    plt.figure(figsize=(10, 7))\n",
    "    plt.plot(train_acc_history, label='Train Accuracy')\n",
    "    plt.plot(val_acc_history, label='Validation Accuracy')\n",
    "    plt.title('Training and Validation Accuracy')\n",
    "    plt.xlabel('Epoch')\n",
    "    plt.ylabel('Accuracy')\n",
    "    plt.legend()\n",
    "    plt.show()\n",
    "\n",
    "    # Plot loss\n",
    "    plt.figure(figsize=(10, 7))\n",
    "    plt.plot(train_loss_history, label='Train Loss')\n",
    "    plt.plot(val_loss_history, label='Validation Loss')\n",
    "    plt.title('Training and Validation Loss')\n",
    "    plt.xlabel('Epoch')\n",
    "    plt.ylabel('Loss')\n",
    "    plt.legend()\n",
    "    plt.show()\n",
    "\n",
    "    # Print training time and best metrics\n",
    "    print(f'Best val Loss: {best_loss:.4f}')\n",
    "    print(f'Best val Acc: {best_acc:.4f}')\n",
    "\n",
    "plot_metrics(train_acc_history, val_acc_history, train_loss_history, val_loss_history, training_time, best_loss, best_acc)\n",
    "\n",
    "torch.save(model.state_dict(), 'model.pth')"
   ]
  },
  {
   "cell_type": "markdown",
   "id": "71b1c47a",
   "metadata": {},
   "source": [
    "def evaluate_model(model, criterion, data_loader):\n",
    "    model.eval()  # set the model to evaluation mode\n",
    "\n",
    "    running_loss = 0.0\n",
    "    running_corrects = 0\n",
    "\n",
    "    # Initialize lists for saving precision, recall, and F1 score\n",
    "    precision_list = []\n",
    "    recall_list = []\n",
    "    f1_list = []\n",
    "\n",
    "    for inputs, labels in data_loader:\n",
    "        inputs = inputs.cuda()\n",
    "        labels = labels.cuda().float()\n",
    "\n",
    "        with torch.no_grad():  # deactivate autograd\n",
    "            outputs = model(inputs)\n",
    "            # Get the probabilities from the outputs\n",
    "            probs = torch.sigmoid(outputs)\n",
    "            # Apply a threshold of 0.5\n",
    "            preds = probs > 0.5\n",
    "            loss = criterion(outputs, labels)\n",
    "\n",
    "        # Calculate the number of correct predictions\n",
    "        corrects = (preds == labels.byte()).all(1).sum().item()\n",
    "        running_corrects += corrects\n",
    "        running_loss += loss.item() * inputs.size(0)\n",
    "\n",
    "        # Calculate metrics\n",
    "        precision, recall, f1 = calculate_metrics(preds, labels)\n",
    "        precision_list.append(precision.mean())\n",
    "        recall_list.append(recall.mean())\n",
    "        f1_list.append(f1.mean())\n",
    "\n",
    "    total_loss = running_loss / len(data_loader.dataset)\n",
    "    total_acc = running_corrects / len(data_loader.dataset)\n",
    "    avg_precision = np.mean(precision_list)\n",
    "    avg_recall = np.mean(recall_list)\n",
    "    avg_f1 = np.mean(f1_list)\n",
    "\n",
    "    print(f'Test Loss: {total_loss:.4f} Acc: {total_acc:.4f}')\n",
    "    print(f'Precision: {avg_precision:.2f} Recall: {avg_recall:.2f} F1 Score: {avg_f1:.2f}')\n",
    "\n",
    "# Load the saved model\n",
    "model.load_state_dict(torch.load('model.pth'))\n",
    "\n",
    "# Evaluate the model on the test dataset\n",
    "evaluate_model(model, criterion, test_loader)"
   ]
  },
  {
   "cell_type": "code",
   "execution_count": 94,
   "id": "517fb470",
   "metadata": {},
   "outputs": [
    {
     "name": "stdout",
     "output_type": "stream",
     "text": [
      "Predicted Class:  ['Cercospora']\n"
     ]
    }
   ],
   "source": [
    "# Initialize the model\n",
    "model = models.resnet50(pretrained=False)\n",
    "num_ftrs = model.fc.in_features\n",
    "num_classes = len(class_labels) \n",
    "model.fc = nn.Linear(num_ftrs, num_classes)\n",
    "\n",
    "# Load the saved parameters\n",
    "model.load_state_dict(torch.load('model.pth'))\n",
    "model = model.cuda()\n",
    "# Don't forget to set the model to evaluation mode if you're doing inference\n",
    "model.eval()\n",
    "\n",
    "# Define the prediction function\n",
    "def predict_image(image_path, model, threshold=0.5):\n",
    "    image = Image.open(image_path)\n",
    "    image = data_transforms(image).unsqueeze(0)\n",
    "    image = image.to(device)\n",
    "\n",
    "    model.eval()\n",
    "    with torch.no_grad():\n",
    "        output = model(image)\n",
    "        # Get the probabilities from the outputs\n",
    "        probs = torch.sigmoid(output)\n",
    "        # Apply a threshold\n",
    "        preds = probs > threshold\n",
    "        # Get the indices of the positive predictions\n",
    "        positive_indices = [i for i, x in enumerate(preds[0]) if x]\n",
    "        # Return the corresponding class labels\n",
    "        return [class_labels[i] for i in positive_indices]\n",
    "\n",
    "# Use the prediction function\n",
    "image_path = \"E:\\Jupyter\\ML\\ValidationSamples\\CLR (3).jpg\"  \n",
    "print(\"Predicted Class: \", predict_image(image_path, model))"
   ]
  },
  {
   "cell_type": "code",
   "execution_count": null,
   "id": "6a3d8119",
   "metadata": {},
   "outputs": [],
   "source": []
  },
  {
   "cell_type": "code",
   "execution_count": null,
   "id": "d83d71e9",
   "metadata": {},
   "outputs": [],
   "source": []
  },
  {
   "cell_type": "code",
   "execution_count": null,
   "id": "17f92842",
   "metadata": {},
   "outputs": [],
   "source": []
  },
  {
   "cell_type": "code",
   "execution_count": null,
   "id": "7e1d3346",
   "metadata": {},
   "outputs": [],
   "source": []
  },
  {
   "cell_type": "code",
   "execution_count": null,
   "id": "08dbf91e",
   "metadata": {},
   "outputs": [],
   "source": []
  }
 ],
 "metadata": {
  "kernelspec": {
   "display_name": "Python 3 (ipykernel)",
   "language": "python",
   "name": "python3"
  },
  "language_info": {
   "codemirror_mode": {
    "name": "ipython",
    "version": 3
   },
   "file_extension": ".py",
   "mimetype": "text/x-python",
   "name": "python",
   "nbconvert_exporter": "python",
   "pygments_lexer": "ipython3",
   "version": "3.11.5"
  }
 },
 "nbformat": 4,
 "nbformat_minor": 5
}
